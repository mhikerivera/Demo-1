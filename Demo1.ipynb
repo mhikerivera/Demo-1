{
  "nbformat": 4,
  "nbformat_minor": 0,
  "metadata": {
    "colab": {
      "name": "Demo1.ipynb",
      "provenance": []
    },
    "kernelspec": {
      "name": "python3",
      "display_name": "Python 3"
    },
    "language_info": {
      "name": "python"
    }
  },
  "cells": [
    {
      "cell_type": "code",
      "metadata": {
        "colab": {
          "base_uri": "https://localhost:8080/"
        },
        "id": "7Gm5wLFoh9_g",
        "outputId": "f7de0c78-ef3b-4d8e-b595-fb0ec084a3d1"
      },
      "source": [
        "\n",
        "A = \"Mhike\"\n",
        "B = \"Rivera\"\n",
        "print(A + B)\n",
        "\n",
        "x = \"Fun\"\n",
        "y = \"Python programming is\"\n",
        "print('Python programming is', x)\n",
        "\n",
        "x = \"Fun\"\n",
        "y = \"Python programming is \"\n",
        "z = y + x\n",
        "print(z)\n",
        "\n",
        "x = 2\n",
        "y = 3\n",
        "sum = x + y\n",
        "print(sum)\n",
        "\n",
        "x = 2\n",
        "y = 4\n",
        "compare = x < y\n",
        "print(compare)\n",
        "\n",
        "a,b,c = 4, 5, 6\n",
        "c%=2\n",
        "print(c)"
      ],
      "execution_count": 1,
      "outputs": [
        {
          "output_type": "stream",
          "name": "stdout",
          "text": [
            "MhikeRivera\n",
            "Python programming is Fun\n",
            "Python programming is Fun\n",
            "5\n",
            "True\n",
            "0\n"
          ]
        }
      ]
    }
  ]
}